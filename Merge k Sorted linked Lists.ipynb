{
 "cells": [
  {
   "cell_type": "markdown",
   "metadata": {},
   "source": [
    "# Merge k Sorted Lists"
   ]
  },
  {
   "cell_type": "markdown",
   "metadata": {},
   "source": [
    "Merge k sorted linked lists and return it as one sorted list. Analyze and describe its complexity.\n",
    "\n",
    "Example:\n",
    "\n",
    "Input:\n",
    "[\n",
    "  1->4->5,\n",
    "  1->3->4,\n",
    "  2->6\n",
    "]\n",
    "\n",
    "Output: 1->1->2->3->4->4->5->6\n",
    "\n"
   ]
  },
  {
   "cell_type": "code",
   "execution_count": 4,
   "metadata": {},
   "outputs": [],
   "source": [
    " #Definition of linked list class\n",
    "    \n",
    "class ListNode:\n",
    "\n",
    "    def __init__(self, x):\n",
    "    \n",
    "        self.val = x\n",
    "        self.next = None"
   ]
  },
  {
   "cell_type": "code",
   "execution_count": 5,
   "metadata": {},
   "outputs": [],
   "source": [
    "#Definition of the function that takes the list and builds a linked list for the solution class to work\n",
    "\n",
    "def linking_list(inplist):\n",
    "    \n",
    "    \"\"\"\n",
    "    :type inplist: list\n",
    "    :rtype: ListNode\n",
    "    \"\"\"\n",
    "        \n",
    "    prehead = ListNode(0)\n",
    "    out_list = prehead\n",
    "    \n",
    "    for e in inplist:\n",
    "        new_node = ListNode(e)\n",
    "        out_list.next= new_node\n",
    "        out_list = new_node\n",
    "        \n",
    "    return prehead.next\n"
   ]
  },
  {
   "cell_type": "code",
   "execution_count": 6,
   "metadata": {},
   "outputs": [],
   "source": [
    "class Solution:\n",
    "    \n",
    "    def mergeKLists(self, lists):\n",
    "        \n",
    "        \"\"\"\n",
    "        :type lists: List[ListNode]\n",
    "        :rtype: ListNode\n",
    "        \"\"\"\n",
    "        list_out = None\n",
    "        for i in range(len(lists)):\n",
    "            l1 = lists[i]\n",
    "            list_out = self.mergeTwoLists(list_out,l1)\n",
    "            \n",
    "        \n",
    "        return list_out\n",
    "            \n",
    "    \n",
    "    def mergeTwoLists(self, l1, l2):\n",
    "           \n",
    "        \"\"\"\n",
    "        :type l1: ListNode\n",
    "        :type l2: ListNode\n",
    "        :rtype: ListNode\n",
    "        \"\"\"\n",
    "    \n",
    "        # maintain an unchanging reference to node ahead of the return node. \n",
    "        prehead = ListNode(-1)\n",
    "\n",
    "        prev = prehead\n",
    "        while l1 and l2:\n",
    "            if l1.val <= l2.val:\n",
    "                prev.next = l1\n",
    "                l1 = l1.next\n",
    "            else:\n",
    "                prev.next = l2\n",
    "                l2 = l2.next            \n",
    "            prev = prev.next\n",
    "\n",
    "        # exactly one of l1 and l2 can be non-null at this point, so connect\n",
    "        # the non-null list to the end of the merged list.\n",
    "        prev.next = l1 if l1 is not None else l2\n",
    "\n",
    "        return prehead.next\n",
    "    \n",
    "    def out_string(self,l1):\n",
    "        \n",
    "        \"\"\"\n",
    "        :type l1: ListNode\n",
    "        :rtype: string\n",
    "        \"\"\"\n",
    "        \n",
    "        out_str = \" \"\n",
    "        \n",
    "        while l1 != None:\n",
    "            out_str = out_str + str(l1.val) + \"->\"\n",
    "            l1 = l1.next\n",
    "          \n",
    "        return out_str[:-2]\n",
    "            "
   ]
  },
  {
   "cell_type": "code",
   "execution_count": 8,
   "metadata": {},
   "outputs": [
    {
     "name": "stdout",
     "output_type": "stream",
     "text": [
      "Input the number of lists you want to combine3\n",
      "Input the 1th list(comma separated):1, 2 ,3\n",
      "Input the 2th list(comma separated):1, 4, 2\n",
      "Input the 3th list(comma separated):1, 6, 3\n",
      "\n",
      " \n",
      " Solution is  1->1->1->2->2->3->3->4->6\n"
     ]
    }
   ],
   "source": [
    "if __name__ == \"__main__\":\n",
    "    \n",
    "    import sys\n",
    "    \n",
    "    \n",
    "    # Get the user to input the linked list\n",
    "    \n",
    "    number_of_list = int(input(\"Input the number of lists you want to combine\").strip())\n",
    "\n",
    "    input_list_lists = []\n",
    "    for i in range(number_of_list):\n",
    "        \n",
    "        out_str = \"Input the \" + str(i+1) + \"th list(comma separated):\"\n",
    "        inp_list = list(input(out_str).strip().split(','))\n",
    "                \n",
    "        \n",
    "        #Convert elements of lists from string to int    \n",
    "        int_list = list(map(lambda x: int(x),inp_list))\n",
    "        \n",
    "        #Sort the individual lists\n",
    "        int_list.sort()\n",
    "    \n",
    "        #Create linked list from the input list\n",
    "        sorted_linklist = linking_list(int_list)\n",
    "    \n",
    "        # Append the head node of the list to input list of linked lists\n",
    "        input_list_lists.append(sorted_linklist)\n",
    "\n",
    "    \n",
    "    # Define the solution object\n",
    "    result = Solution()\n",
    "    \n",
    "    \n",
    "    #Final output result \n",
    "    list_result = result.mergeKLists(input_list_lists)\n",
    "    \n",
    "    # Print the output linked list\n",
    "    print (\"\\n \\n Solution is\",result.out_string(list_result))\n",
    "    "
   ]
  },
  {
   "cell_type": "code",
   "execution_count": null,
   "metadata": {},
   "outputs": [],
   "source": []
  }
 ],
 "metadata": {
  "kernelspec": {
   "display_name": "Python 3",
   "language": "python",
   "name": "python3"
  },
  "language_info": {
   "codemirror_mode": {
    "name": "ipython",
    "version": 3
   },
   "file_extension": ".py",
   "mimetype": "text/x-python",
   "name": "python",
   "nbconvert_exporter": "python",
   "pygments_lexer": "ipython3",
   "version": "3.5.2"
  }
 },
 "nbformat": 4,
 "nbformat_minor": 2
}
