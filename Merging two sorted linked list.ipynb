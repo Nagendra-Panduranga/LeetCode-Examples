{
 "cells": [
  {
   "cell_type": "markdown",
   "metadata": {},
   "source": [
    "# Merge Two Sorted (linked) Lists "
   ]
  },
  {
   "cell_type": "markdown",
   "metadata": {},
   "source": [
    "Merge two sorted linked lists and return it as a new list. The new list should be made by splicing together the nodes of the first two lists.\n",
    "\n",
    "Example:\n",
    "\n",
    "Input: 1->2->4, 1->3->4\n",
    "Output: 1->1->2->3->4->4\n"
   ]
  },
  {
   "cell_type": "code",
   "execution_count": 1,
   "metadata": {},
   "outputs": [],
   "source": [
    " #Definition of linked list class\n",
    "    \n",
    "class ListNode:\n",
    "\n",
    "    def __init__(self, x):\n",
    "    \n",
    "        self.val = x\n",
    "        self.next = None"
   ]
  },
  {
   "cell_type": "code",
   "execution_count": 2,
   "metadata": {},
   "outputs": [],
   "source": [
    "#Definition of the function that takes the list and builds a linked list for the solution class to work\n",
    "\n",
    "def linking_list(inplist):\n",
    "    \n",
    "    prehead = ListNode(0)\n",
    "    out_list = prehead\n",
    "    \n",
    "    \n",
    "    for e in inplist:\n",
    "        new_node = ListNode(e)\n",
    "        out_list.next= new_node\n",
    "        out_list = new_node\n",
    "        \n",
    "    \n",
    "    return prehead.next\n",
    "                           "
   ]
  },
  {
   "cell_type": "code",
   "execution_count": 3,
   "metadata": {},
   "outputs": [],
   "source": [
    "class Solution:\n",
    "    \n",
    "    def mergeTwoLists(self, l1, l2):\n",
    "        # maintain an unchanging reference to node ahead of the return node.\n",
    "        prehead = ListNode(-1)\n",
    "\n",
    "        prev = prehead\n",
    "        while l1 and l2:\n",
    "            if l1.val <= l2.val:\n",
    "                prev.next = l1\n",
    "                l1 = l1.next\n",
    "            else:\n",
    "                prev.next = l2\n",
    "                l2 = l2.next            \n",
    "            prev = prev.next\n",
    "\n",
    "        # exactly one of l1 and l2 can be non-null at this point, so connect\n",
    "        # the non-null list to the end of the merged list.\n",
    "        prev.next = l1 if l1 is not None else l2\n",
    "\n",
    "        return prehead.next\n",
    "    \n",
    "    def out_string(self,l1):\n",
    "        \n",
    "        out_str = \" \"\n",
    "        \n",
    "        while l1 != None:\n",
    "            out_str = out_str + str(l1.val) + \"->\"\n",
    "            l1 = l1.next\n",
    "            \n",
    "        \n",
    "        return out_str[:-2]\n",
    "            "
   ]
  },
  {
   "cell_type": "code",
   "execution_count": 5,
   "metadata": {},
   "outputs": [
    {
     "name": "stdout",
     "output_type": "stream",
     "text": [
      "Input the first list(comma separated):1, 3, 1\n",
      "Input the second list(comma separated):2, 1, 0\n",
      "\n",
      " \n",
      " Solution is  0->1->1->1->2->3\n"
     ]
    }
   ],
   "source": [
    "if __name__ == \"__main__\":\n",
    "    \n",
    "    import sys\n",
    "    \n",
    "    # Get the user to input the linked list\n",
    "    inp_first_list = list(input(\"Input the first list(comma separated):\").strip().split(','))\n",
    "    inp_second_list = list(input(\"Input the second list(comma separated):\").strip().split(','))\n",
    "    \n",
    "    #Convert elements of lists from string to int\n",
    "    first_list = list(map(lambda x: int(x),inp_first_list))\n",
    "    second_list = list(map(lambda x: int(x),inp_second_list))\n",
    "    \n",
    "    #Sort the individual lists\n",
    "    first_list.sort()\n",
    "    second_list.sort()\n",
    "    \n",
    "    #Create linked list from the input list\n",
    "    first_linklist = linking_list(first_list)\n",
    "    second_linklist = linking_list(second_list)\n",
    "    \n",
    "    # Define the solution object\n",
    "    result = Solution()\n",
    "    \n",
    "    #Final output result \n",
    "    list_result = result.mergeTwoLists(first_linklist,second_linklist)\n",
    "    \n",
    "    # Print the output linked list\n",
    "    print (\"\\n \\n Solution is\",result.out_string(list_result))\n",
    "    "
   ]
  },
  {
   "cell_type": "code",
   "execution_count": null,
   "metadata": {},
   "outputs": [],
   "source": []
  }
 ],
 "metadata": {
  "kernelspec": {
   "display_name": "Python 3",
   "language": "python",
   "name": "python3"
  },
  "language_info": {
   "codemirror_mode": {
    "name": "ipython",
    "version": 3
   },
   "file_extension": ".py",
   "mimetype": "text/x-python",
   "name": "python",
   "nbconvert_exporter": "python",
   "pygments_lexer": "ipython3",
   "version": "3.5.2"
  }
 },
 "nbformat": 4,
 "nbformat_minor": 2
}
