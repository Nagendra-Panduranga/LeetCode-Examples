{
 "cells": [
  {
   "cell_type": "markdown",
   "metadata": {},
   "source": [
    "#  3sum closest"
   ]
  },
  {
   "cell_type": "markdown",
   "metadata": {},
   "source": [
    "Given an array nums of n integers and an integer target, find three integers in nums such that the sum is closest to target. Return the sum of the three integers. You may assume that each input would have exactly one solution.\n",
    "\n",
    "Example:\n",
    "\n",
    "Given array nums = [-1, 2, 1, -4], and target = 1.\n",
    "\n",
    "The sum that is closest to the target is 2. (-1 + 2 + 1 = 2).\n",
    "\n"
   ]
  },
  {
   "cell_type": "code",
   "execution_count": 11,
   "metadata": {},
   "outputs": [],
   "source": [
    "''' \n",
    "The function  gives the solution to the problem. \n",
    "Input: the list of numbers and the target as input variables \n",
    "Output: the sum of triplet of numbers whose sum is closest to the target number.\n",
    "'''\n",
    "\n",
    "class Solution:\n",
    "\n",
    "    def threeSumClosest(self, nums, target):\n",
    "        \"\"\"\n",
    "        :type nums: List[int]\n",
    "        :type target: int\n",
    "        :rtype: int\n",
    "        \"\"\"\n",
    "             \n",
    "        num = nums\n",
    "        num.sort()\n",
    "        result = num[0] + num[1] + num[2]\n",
    "        \n",
    "        for i in range(len(num) - 2):\n",
    "            j, k = i+1, len(num) - 1\n",
    "            while j < k:\n",
    "                sum = num[i] + num[j] + num[k]\n",
    "                if sum == target:\n",
    "                    return sum\n",
    "                \n",
    "                if abs(sum - target) < abs(result - target):\n",
    "                    result = sum\n",
    "                \n",
    "                if sum < target:\n",
    "                    j += 1\n",
    "                elif sum > target:\n",
    "                    k -= 1\n",
    "            \n",
    "        return result"
   ]
  },
  {
   "cell_type": "code",
   "execution_count": 15,
   "metadata": {},
   "outputs": [
    {
     "name": "stdout",
     "output_type": "stream",
     "text": [
      "List of numbers2 3 5 6 9\n",
      "Target number3\n",
      "\n",
      " The sum that is closest to the target is  10\n"
     ]
    }
   ],
   "source": [
    "if __name__== '__main__':\n",
    "        \n",
    "        import sys\n",
    "        \n",
    "        inp_list = list((input('List of numbers').strip().split(' ')))\n",
    "        target_num = int(input('Target number').strip())\n",
    "                \n",
    "        # Convert the elements of input list from string to integer\n",
    "        num_list = list(map(lambda x: int(x),inp_list))\n",
    "        \n",
    "        # Define the result object\n",
    "        result = Solution()\n",
    "        print (\"\\n The sum that is closest to the target is \", result.threeSumClosest(num_list,target_num) )"
   ]
  },
  {
   "cell_type": "code",
   "execution_count": null,
   "metadata": {},
   "outputs": [],
   "source": []
  }
 ],
 "metadata": {
  "kernelspec": {
   "display_name": "Python 3",
   "language": "python",
   "name": "python3"
  },
  "language_info": {
   "codemirror_mode": {
    "name": "ipython",
    "version": 3
   },
   "file_extension": ".py",
   "mimetype": "text/x-python",
   "name": "python",
   "nbconvert_exporter": "python",
   "pygments_lexer": "ipython3",
   "version": "3.5.2"
  }
 },
 "nbformat": 4,
 "nbformat_minor": 2
}
